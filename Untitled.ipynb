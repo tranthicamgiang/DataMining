{
 "cells": [
  {
   "cell_type": "code",
   "execution_count": 82,
   "metadata": {
    "collapsed": true
   },
   "outputs": [],
   "source": [
    "def readData(f):\n",
    "    data_file = open(f, 'r')\n",
    "    data_list = data_file.readlines()\n",
    "    data_file.close()\n",
    "    return data_list"
   ]
  },
  {
   "cell_type": "code",
   "execution_count": 83,
   "metadata": {
    "collapsed": true
   },
   "outputs": [],
   "source": [
    "def scaleData(X, a = 0, b = 0):\n",
    "    if a == 0 and b == 0:\n",
    "        max_x = X.max()\n",
    "        min_x = X.min()\n",
    "        high = 0.999\n",
    "        low = 0.111\n",
    "        a = (high - low) / (max_x - min_x)\n",
    "        b = (max_x * low - min_x * high) / (max_x - min_x)\n",
    "    return a * X + b, a, b"
   ]
  },
  {
   "cell_type": "code",
   "execution_count": 84,
   "metadata": {
    "collapsed": true
   },
   "outputs": [],
   "source": [
    "def size_weights(shape):\n",
    "    x = 0\n",
    "    for i in range(len(shape) - 1):\n",
    "        x =  x + (shape[i] + 1) * shape[i + 1]\n",
    "    return x"
   ]
  },
  {
   "cell_type": "code",
   "execution_count": 85,
   "metadata": {
    "collapsed": true
   },
   "outputs": [],
   "source": [
    "def process_date_in_a_year(data):\n",
    "    result = []\n",
    "    day_pre = data[0]\n",
    "    i = 0\n",
    "    for next_day in data:\n",
    "        if (next_day.year == day_pre.year):\n",
    "            i = i + 1\n",
    "        else:\n",
    "            i = 0\n",
    "        result.append(i)\n",
    "        day_pre = next_day\n",
    "    return result\n",
    "            "
   ]
  },
  {
   "cell_type": "code",
   "execution_count": 86,
   "metadata": {
    "collapsed": true
   },
   "outputs": [],
   "source": [
    "class NeuralNetwork:\n",
    "    def __init__(self, shape):\n",
    "        self.activate_function = lambda x: numpy.tanh(x)\n",
    "        self.shape = shape\n",
    "        pass\n",
    "\n",
    "    def query(self, input, weight):\n",
    "        pre_layer = input.T\n",
    "        for i in range(len(self.shape) - 1):\n",
    "            pre_layer = numpy.insert(pre_layer, 0, 1, axis=0)\n",
    "            layer_input = numpy.dot(weight[i], pre_layer)\n",
    "            layer_output = self.activate_function(layer_input)\n",
    "            pre_layer = layer_output\n",
    "        return pre_layer"
   ]
  },
  {
   "cell_type": "code",
   "execution_count": 87,
   "metadata": {
    "collapsed": true
   },
   "outputs": [],
   "source": [
    "class PSO:\n",
    "    def __init__(self, swarm_size, num_feature, Y, data, shape):\n",
    "        self.Y = Y\n",
    "        self.data = data\n",
    "        self.shape = shape\n",
    "        self.c1 = 1.49445\n",
    "        self.c2 = 1.49445\n",
    "        self.m = num_feature\n",
    "        self.n = swarm_size\n",
    "        self.maxite = 100\n",
    "        self.LB = -1\n",
    "        self.UB = 1\n",
    "\n",
    "        self.X = numpy.random.uniform(-1, 1, (self.n, self.m))\n",
    "        self.V = numpy.random.uniform(-0.1, 0.1, (self.n, self.m))\n",
    "        self.Cost = self.eval_cost(self.X)\n",
    "        self.Pbest = self.X.copy()\n",
    "        self.Gbest = self.Pbest[self.Cost.argmin()]\n",
    "        self.best_cost = self.Cost.min()\n",
    "        pass\n",
    "\n",
    "    def MSE(self, Y_hat, Y):\n",
    "        m = Y.shape[0]\n",
    "        return 1 / m * numpy.sum((Y_hat - Y) ** 2)\n",
    "\n",
    "    def vector_to_weights(self, vector, shape):\n",
    "        weight = []\n",
    "        index = 0\n",
    "        for i in range(len(shape) - 1):\n",
    "            row = shape[i + 1]\n",
    "            col = shape[i] + 1\n",
    "            id_min = index\n",
    "            id_max = index + row * col\n",
    "            weight.append(vector[id_min:id_max].reshape(row, col))\n",
    "        return weight\n",
    "\n",
    "    def eval_cost(self, position):\n",
    "        Cost = []\n",
    "        neuralNetwork = NeuralNetwork(self.shape)\n",
    "        for x in position:\n",
    "            weight = self.vector_to_weights(x, self.shape)\n",
    "            Y_predict = neuralNetwork.query(self.data, weight)\n",
    "            Cost.append(self.MSE(Y_predict, self.Y))\n",
    "        return numpy.asarray(Cost)\n",
    "\n",
    "    def update(self):\n",
    "        ite = 0\n",
    "        while ite < self.maxite and self.best_cost > 10 ** -12:\n",
    "            R1 = numpy.random.uniform(0, 1, (self.n, self.m))\n",
    "            R2 = numpy.random.uniform(0, 1, (self.n, self.m))\n",
    "            w = 0.729\n",
    "            self.V = w * self.V + self.c1 * R1 * (self.Pbest - self.X) + self.c2 * R2 * (self.Gbest - self.X)\n",
    "            self.X = self.X + self.V\n",
    "\n",
    "            x_lower_than_lb = self.X < self.LB\n",
    "            x_higher_than_ub = self.X > self.UB\n",
    "            self.X[x_lower_than_lb] = self.LB\n",
    "            self.X[x_higher_than_ub] = self.UB\n",
    "\n",
    "            v_lower_than_lb = self.V < (self.LB * 0.1)\n",
    "            v_higher_than_ub = self.V > (self.UB * 0.1)\n",
    "            self.V[v_lower_than_lb] = self.LB * 0.1\n",
    "            self.V[v_higher_than_ub] = self.UB * 0.1\n",
    "\n",
    "            current_cost = self.eval_cost(self.X)\n",
    "            better_cost = current_cost < self.Cost\n",
    "            self.Cost[better_cost] = current_cost[better_cost]\n",
    "            self.Pbest[better_cost] = self.X[better_cost]\n",
    "            self.Gbest = self.Pbest[self.Cost.argmin()]\n",
    "            self.best_cost = self.Cost.min()\n",
    "            ite += 1\n",
    "        return self.Gbest, self.best_cost\n"
   ]
  },
  {
   "cell_type": "code",
   "execution_count": 88,
   "metadata": {
    "collapsed": true
   },
   "outputs": [],
   "source": [
    "import numpy"
   ]
  },
  {
   "cell_type": "code",
   "execution_count": 133,
   "metadata": {
    "collapsed": true
   },
   "outputs": [],
   "source": [
    "data = [row.split(\",\") for row in readData(\"data.csv\")]\n",
    "do_am = numpy.asarray([float(row[1]) for row in data])\n",
    "do_am_scale, a_x, b_x = scaleData(do_am)\n",
    "do_am_scale = do_am_scale.reshape(len(data), 1)\n",
    "luong_mua = numpy.asarray([float(row[2].replace(\"\\n\", \"\")) for row in data])\n",
    "luong_mua_scale, a_y, b_y = scaleData(luong_mua)\n",
    "luong_mua_scale = luong_mua_scale.reshape(len(data), 1)\n",
    "ngay_thang_nam = [row[0] for row in data]\n",
    "ngay_thang_nam_split = [row.split(\"/\") for row in ngay_thang_nam]\n",
    "ngay_thang_nam = [date(int(row[2]), int(row[1]), int(row[0])) for row in ngay_thang_nam_split]\n",
    "dates = process_date_in_a_year(ngay_thang_nam)\n",
    "dates = numpy.asarray(dates)\n",
    "dates_scale, a_date, b_date = scaleData(dates)"
   ]
  },
  {
   "cell_type": "code",
   "execution_count": 135,
   "metadata": {},
   "outputs": [
    {
     "data": {
      "text/plain": [
       "15485.6"
      ]
     },
     "execution_count": 135,
     "metadata": {},
     "output_type": "execute_result"
    }
   ],
   "source": [
    "len(data)* 4/5"
   ]
  },
  {
   "cell_type": "code",
   "execution_count": 136,
   "metadata": {
    "collapsed": true
   },
   "outputs": [],
   "source": [
    "train_data = data[0:15485]\n",
    "test_data = data[15485:]"
   ]
  },
  {
   "cell_type": "code",
   "execution_count": 137,
   "metadata": {},
   "outputs": [
    {
     "data": {
      "text/plain": [
       "3872"
      ]
     },
     "execution_count": 137,
     "metadata": {},
     "output_type": "execute_result"
    }
   ],
   "source": [
    "len(test_data)"
   ]
  },
  {
   "cell_type": "code",
   "execution_count": 138,
   "metadata": {
    "collapsed": true
   },
   "outputs": [],
   "source": [
    "\n",
    "do_am = numpy.asarray([float(row[1]) for row in train_data])\n",
    "do_am_scale, a_x, b_x = scaleData(do_am)\n",
    "do_am_scale = do_am_scale.reshape(len(train_data), 1)\n",
    "luong_mua = numpy.asarray([float(row[2].replace(\"\\n\", \"\")) for row in train_data])\n",
    "luong_mua_scale, a_y, b_y = scaleData(luong_mua)\n",
    "luong_mua_scale = luong_mua_scale.reshape(len(train_data), 1)\n",
    "ngay_thang_nam = [row[0] for row in train_data]\n",
    "ngay_thang_nam_split = [row.split(\"/\") for row in ngay_thang_nam]\n",
    "ngay_thang_nam = [date(int(row[2]), int(row[1]), int(row[0])) for row in ngay_thang_nam_split]\n",
    "dates = process_date_in_a_year(ngay_thang_nam)\n",
    "dates = numpy.asarray(dates)\n",
    "dates_scale, a_date, b_date = scaleData(dates)"
   ]
  },
  {
   "cell_type": "code",
   "execution_count": 139,
   "metadata": {},
   "outputs": [],
   "source": [
    "X = dates_scale.copy().reshape(dates.shape[0], 1)\n"
   ]
  },
  {
   "cell_type": "code",
   "execution_count": 140,
   "metadata": {},
   "outputs": [
    {
     "data": {
      "text/plain": [
       "(15485, 1)"
      ]
     },
     "execution_count": 140,
     "metadata": {},
     "output_type": "execute_result"
    }
   ],
   "source": [
    "X.shape"
   ]
  },
  {
   "cell_type": "code",
   "execution_count": 141,
   "metadata": {},
   "outputs": [
    {
     "data": {
      "text/plain": [
       "array([ 0.11342623])"
      ]
     },
     "execution_count": 141,
     "metadata": {},
     "output_type": "execute_result"
    }
   ],
   "source": [
    "X[0]"
   ]
  },
  {
   "cell_type": "code",
   "execution_count": 142,
   "metadata": {},
   "outputs": [
    {
     "data": {
      "text/plain": [
       "array([ 0.12807657])"
      ]
     },
     "execution_count": 142,
     "metadata": {},
     "output_type": "execute_result"
    }
   ],
   "source": [
    "do_am_scale[0]"
   ]
  },
  {
   "cell_type": "code",
   "execution_count": 143,
   "metadata": {},
   "outputs": [],
   "source": [
    "X = numpy.c_[X, do_am_scale]"
   ]
  },
  {
   "cell_type": "code",
   "execution_count": 145,
   "metadata": {},
   "outputs": [
    {
     "data": {
      "text/plain": [
       "(15485, 2)"
      ]
     },
     "execution_count": 145,
     "metadata": {},
     "output_type": "execute_result"
    }
   ],
   "source": [
    "X.shape"
   ]
  },
  {
   "cell_type": "code",
   "execution_count": 146,
   "metadata": {
    "collapsed": true
   },
   "outputs": [],
   "source": [
    "def Mape(y, y_hat):\n",
    "    return 100 * (numpy.sum(abs(y - y_hat) / y))/y.shape[0]"
   ]
  },
  {
   "cell_type": "code",
   "execution_count": 147,
   "metadata": {
    "collapsed": true
   },
   "outputs": [],
   "source": [
    "from datetime import date\n",
    "\n",
    "def how_many_days(t):\n",
    "    d0 = date(1960, 1, 1)\n",
    "    return (t - d0).days"
   ]
  },
  {
   "cell_type": "code",
   "execution_count": 148,
   "metadata": {},
   "outputs": [
    {
     "data": {
      "image/png": "[encoded data removed]",
      "text/plain": [
       "<matplotlib.figure.Figure at 0x10cbd29b0>"
      ]
     },
     "metadata": {},
     "output_type": "display_data"
    }
   ],
   "source": [
    "import matplotlib.pyplot as plt\n",
    "\n",
    "plt.plot(do_am, luong_mua, 'ro')\n",
    "plt.xlabel(\"Do am\")\n",
    "plt.ylabel(\"Luong mua\")\n",
    "plt.show()"
   ]
  },
  {
   "cell_type": "code",
   "execution_count": 76,
   "metadata": {
    "collapsed": true
   },
   "outputs": [],
   "source": [
    "import scipy.special"
   ]
  },
  {
   "cell_type": "code",
   "execution_count": 81,
   "metadata": {
    "collapsed": true
   },
   "outputs": [],
   "source": [
    "def test(nn, weight, a_y, b_y, do_am):\n",
    "    y_predict = nn.query(do_am, vector_to_weights(weight, nn.shape))\n",
    "    y_predict = (y_predict - b_y)/a_y\n",
    "    plt.plot(do_am, y_predict, 'ro')\n",
    "    plt.xlabel(\"Do am\")\n",
    "    plt.ylabel(\"Luong mua du doan\")\n",
    "    plt.show()\n",
    "    pass"
   ]
  },
  {
   "cell_type": "code",
   "execution_count": 105,
   "metadata": {
    "collapsed": true
   },
   "outputs": [],
   "source": [
    "f = open(\"weight.txt\", \"r\")\n",
    "f_line = f.readlines()\n",
    "f.close()"
   ]
  },
  {
   "cell_type": "code",
   "execution_count": 106,
   "metadata": {
    "collapsed": true
   },
   "outputs": [],
   "source": [
    "f_fm = [float(row.replace(\"\\n\", \"\")) for row in f_line]"
   ]
  },
  {
   "cell_type": "code",
   "execution_count": 107,
   "metadata": {
    "collapsed": true
   },
   "outputs": [],
   "source": [
    "best_weight = numpy.asarray(f_fm)"
   ]
  },
  {
   "cell_type": "code",
   "execution_count": 108,
   "metadata": {
    "collapsed": true
   },
   "outputs": [],
   "source": [
    "shape = (do_am_scale.shape[1], 50, 50, 1)\n",
    "nn = NeuralNetwork(shape)"
   ]
  },
  {
   "cell_type": "code",
   "execution_count": 86,
   "metadata": {
    "collapsed": true
   },
   "outputs": [],
   "source": [
    "def vector_to_weights(vector, shape):\n",
    "    weight = []\n",
    "    index = 0\n",
    "    for i in range(len(shape) - 1):\n",
    "        row = shape[i + 1]\n",
    "        col = shape[i] + 1\n",
    "        id_min = index\n",
    "        id_max = index + row * col\n",
    "        weight.append(vector[id_min:id_max].reshape(row, col))\n",
    "    return weight"
   ]
  },
  {
   "cell_type": "code",
   "execution_count": 109,
   "metadata": {
    "collapsed": true
   },
   "outputs": [],
   "source": [
    "y_predict = nn.query(do_am_scale, vector_to_weights(best_weight, nn.shape))"
   ]
  },
  {
   "cell_type": "code",
   "execution_count": 110,
   "metadata": {
    "collapsed": true
   },
   "outputs": [],
   "source": [
    "y_predict = (y_predict - b_y) / a_y"
   ]
  },
  {
   "cell_type": "code",
   "execution_count": 111,
   "metadata": {},
   "outputs": [
    {
     "data": {
      "text/plain": [
       "array([[ 3009.81299801,  2990.56497281,  2971.28324231, ...,\n",
       "         1142.61348267,  1205.67061863,  1497.24945889]])"
      ]
     },
     "execution_count": 111,
     "metadata": {},
     "output_type": "execute_result"
    }
   ],
   "source": [
    "y_predict"
   ]
  },
  {
   "cell_type": "code",
   "execution_count": 112,
   "metadata": {},
   "outputs": [
    {
     "data": {
      "text/plain": [
       "(19357, 1)"
      ]
     },
     "execution_count": 112,
     "metadata": {},
     "output_type": "execute_result"
    }
   ],
   "source": [
    "y_predict.T.shape"
   ]
  },
  {
   "cell_type": "code",
   "execution_count": 113,
   "metadata": {},
   "outputs": [
    {
     "data": {
      "text/plain": [
       "(19357, 1)"
      ]
     },
     "execution_count": 113,
     "metadata": {},
     "output_type": "execute_result"
    }
   ],
   "source": [
    "do_am.shape"
   ]
  },
  {
   "cell_type": "code",
   "execution_count": 149,
   "metadata": {},
   "outputs": [
    {
     "data": {
      "text/plain": [
       "array([2, 3, 4, 5])"
      ]
     },
     "execution_count": 149,
     "metadata": {},
     "output_type": "execute_result"
    }
   ],
   "source": [
    "a = numpy.asarray([1, 2, 3, 4, 5, 5, 6,  7, 23])\n",
    "a[1: 5]"
   ]
  },
  {
   "cell_type": "code",
   "execution_count": null,
   "metadata": {
    "collapsed": true
   },
   "outputs": [],
   "source": []
  },
  {
   "cell_type": "code",
   "execution_count": 114,
   "metadata": {},
   "outputs": [
    {
     "data": {
      "image/png": "[encoded data removed]",
      "text/plain": [
       "<matplotlib.figure.Figure at 0x1521bd3898>"
      ]
     },
     "metadata": {},
     "output_type": "display_data"
    }
   ],
   "source": [
    "plt.subplot(1, 2, 1)\n",
    "plt.title('Ket qua giua thuc te va du doan')\n",
    "plt.scatter(do_am, luong_mua, s = 2, alpha=0.5)\n",
    "plt.xlabel(\"Do am\")\n",
    "plt.ylabel(\"Luong mua\")\n",
    "\n",
    "plt.subplot(1, 2, 2)\n",
    "plt.scatter(do_am, y_predict.T, s = 2, alpha=0.5)\n",
    "plt.xlabel(\"Do am\")\n",
    "plt.ylabel(\"Luong mua du doan\")\n",
    "\n",
    "plt.show()"
   ]
  },
  {
   "cell_type": "markdown",
   "metadata": {},
   "source": [
    "plt.subplot(1, 2, 1)\n",
    "plt.title('Ket qua giua thuc te va du doan')\n",
    "plt.scatter(do_am, luong_mua, s = 2, alpha=0.5)\n",
    "plt.xlabel(\"Do am\")\n",
    "plt.ylabel(\"Luong mua\")\n",
    "\n",
    "plt.subplot(1, 2, 2)\n",
    "plt.scatter(do_am, y_predict.T, s = 2, alpha=0.5)\n",
    "plt.xlabel(\"Do am\")\n",
    "plt.ylabel(\"Luong mua du doan\")\n",
    "\n",
    "plt.show()"
   ]
  }
 ],
 "metadata": {
  "kernelspec": {
   "display_name": "Python 3",
   "language": "python",
   "name": "python3"
  },
  "language_info": {
   "codemirror_mode": {
    "name": "ipython",
    "version": 3
   },
   "file_extension": ".py",
   "mimetype": "text/x-python",
   "name": "python",
   "nbconvert_exporter": "python",
   "pygments_lexer": "ipython3",
   "version": "3.6.3"
  }
 },
 "nbformat": 4,
 "nbformat_minor": 2
}
