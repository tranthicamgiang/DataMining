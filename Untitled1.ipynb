{
 "cells": [
  {
   "cell_type": "code",
   "execution_count": 1,
   "metadata": {
    "collapsed": true
   },
   "outputs": [],
   "source": [
    "def scaleData(X, a = 0, b = 0):\n",
    "    if a == 0 and b == 0:\n",
    "        max_x = X.max()\n",
    "        min_x = X.min()\n",
    "        high = 0.999\n",
    "        low = 0.111\n",
    "        a = (high - low) / (max_x - min_x)\n",
    "        b = (max_x * low - min_x * high) / (max_x - min_x)\n",
    "    return a * X + b, a, b\n",
    "\n",
    "\n",
    "\n",
    "\n",
    "def readData(f):\n",
    "    data_file = open(f, 'r')\n",
    "    data_list = data_file.readlines()\n",
    "    data_file.close()\n",
    "    return data_list\n",
    "\n",
    "\n",
    "def size_weights(shape):\n",
    "    x = 0\n",
    "    for i in range(len(shape) - 1):\n",
    "        x =  x + (shape[i] + 1) * shape[i + 1]\n",
    "    return x"
   ]
  },
  {
   "cell_type": "code",
   "execution_count": 3,
   "metadata": {
    "collapsed": true
   },
   "outputs": [],
   "source": [
    "import numpy\n",
    "import scipy.special"
   ]
  },
  {
   "cell_type": "code",
   "execution_count": 4,
   "metadata": {},
   "outputs": [],
   "source": [
    "data = [row.split(\",\") for row in readData(\"data.csv\")]\n",
    "do_am = numpy.asarray([float(row[1]) for row in data])\n",
    "do_am, a_x, b_x = scaleData(do_am)\n",
    "do_am = do_am.reshape(len(data), 1)\n",
    "luong_mua, a_y, b_y = scaleData(numpy.asarray([float(row[2].replace(\"\\n\", \"\")) for row in data]))\n",
    "luong_mua = luong_mua.reshape(len(data), 1)"
   ]
  },
  {
   "cell_type": "code",
   "execution_count": 26,
   "metadata": {
    "collapsed": true
   },
   "outputs": [],
   "source": [
    "class NeuralNetwork:\n",
    "    def __init__(self, shape):\n",
    "        self.activate_function = lambda x: scipy.special.expit(x)\n",
    "        self.shape = shape\n",
    "        pass\n",
    "\n",
    "    def query(self, input, weight):\n",
    "        pre_layer = input.T\n",
    "        for i in range(len(self.shape) - 1):\n",
    "            pre_layer = numpy.insert(pre_layer, 0, 1, axis=0)\n",
    "            layer_input = numpy.dot(weight[i], pre_layer)\n",
    "            layer_output = self.activate_function(layer_input)\n",
    "            pre_layer = layer_output\n",
    "        return pre_layer.T"
   ]
  },
  {
   "cell_type": "code",
   "execution_count": 40,
   "metadata": {
    "collapsed": true
   },
   "outputs": [],
   "source": [
    "class PSO:\n",
    "    def __init__(self, swarm_size, num_feature, Y, data, shape):\n",
    "        self.Y = Y\n",
    "        self.data = data\n",
    "        self.shape = shape\n",
    "        self.wmax = 0.9\n",
    "        self.wmin = 0.4\n",
    "        self.c1 = 2\n",
    "        self.c2 = 2\n",
    "        self.m = num_feature\n",
    "        self.n = swarm_size\n",
    "        self.maxite = 10\n",
    "        self.LB = -1\n",
    "        self.UB = 1\n",
    "\n",
    "        self.X = numpy.random.uniform(-1, 1, (self.n, self.m))\n",
    "        self.V = numpy.random.uniform(-0.1, 0.1, (self.n, self.m))\n",
    "        self.Cost = self.eval_cost(self.X)\n",
    "        self.Pbest = self.X.copy()\n",
    "        self.Gbest = self.Pbest[self.Cost.argmin()]\n",
    "        self.best_cost = self.Cost.min()\n",
    "        pass\n",
    "\n",
    "    def MSE(self, Y_hat, Y):\n",
    "        m = Y.shape[0]\n",
    "        return 1 / m * numpy.sum((Y_hat - Y) ** 2)\n",
    "\n",
    "    def vector_to_weights(self, vector, shape):\n",
    "        weight = []\n",
    "        id = 0\n",
    "        for i in range(len(shape) - 1):\n",
    "            row = shape[i + 1]\n",
    "            col = shape[i] + 1\n",
    "            id_min = id\n",
    "            id_max = id + row * col\n",
    "            weight.append(vector[id_min:id_max].reshape(row, col))\n",
    "        return weight\n",
    "\n",
    "    def eval_cost(self, position):\n",
    "        Cost = []\n",
    "        neuralNetwork = NeuralNetwork(self.shape)\n",
    "        for x in position:\n",
    "            weight = self.vector_to_weights(x, self.shape)\n",
    "            Y_predict = neuralNetwork.query(self.data, weight)\n",
    "            Cost.append(self.MSE(Y_predict, self.Y))\n",
    "        return numpy.asarray(Cost)\n",
    "\n",
    "    def update(self):\n",
    "        ite = 1\n",
    "        while ite < self.maxite and self.best_cost > 10 ** -12:\n",
    "            R1 = numpy.random.uniform(0, 1, (self.n, self.m))\n",
    "            R2 = numpy.random.uniform(0, 1, (self.n, self.m))\n",
    "            w = self.wmax - (self.wmax - self.wmin) * ite / self.maxite\n",
    "            self.V = w * self.V + self.c1 * R1 * (self.Pbest - self.X) + self.c2 * R2 * (self.Gbest - self.X)\n",
    "            self.X = self.X + self.V\n",
    "\n",
    "            lowerThanLB = self.X < self.LB\n",
    "            higherThanUB = self.X > self.UB\n",
    "            self.X[lowerThanLB] = self.LB\n",
    "            self.X[higherThanUB] = self.UB\n",
    "\n",
    "            CurrentCost = self.eval_cost(self.X)\n",
    "            BetterCost = CurrentCost < self.Cost\n",
    "            self.Cost[BetterCost] = CurrentCost[BetterCost]\n",
    "            self.Pbest[BetterCost] = self.X[BetterCost]\n",
    "            self.Gbest = self.Pbest[self.Cost.argmin()]\n",
    "            self.best_cost = self.Cost.min()\n",
    "            ite += 1\n",
    "        return self.Gbest, self.best_cost\n"
   ]
  },
  {
   "cell_type": "code",
   "execution_count": 28,
   "metadata": {
    "collapsed": true
   },
   "outputs": [],
   "source": [
    "shape = (do_am.shape[1], 2, 1)"
   ]
  },
  {
   "cell_type": "code",
   "execution_count": 29,
   "metadata": {
    "collapsed": true
   },
   "outputs": [],
   "source": [
    "size = size_weights(shape)"
   ]
  },
  {
   "cell_type": "code",
   "execution_count": 30,
   "metadata": {},
   "outputs": [],
   "source": [
    "m = size\n",
    "n = 10\n",
    "X = numpy.random.uniform(-1, 1, (n, m))\n",
    "V = numpy.random.uniform(-0.1, 0.1, (n, m))"
   ]
  },
  {
   "cell_type": "code",
   "execution_count": 31,
   "metadata": {},
   "outputs": [],
   "source": [
    "def MSE(Y_hat, Y):\n",
    "    m = Y.shape[0]\n",
    "    return 1 / m * numpy.sum((Y_hat - Y) ** 2)\n",
    "\n",
    "    \n",
    "def eval_cost(position, shape, data, Y):\n",
    "    Cost = []\n",
    "    neuralNetwork = NeuralNetwork(shape)\n",
    "    for x in position:\n",
    "        weight = vector_to_weights(x, shape)\n",
    "        Y_predict = neuralNetwork.query(data, weight)\n",
    "        Cost.append(MSE(Y_predict, Y))\n",
    "    return numpy.asarray(Cost)\n",
    "\n",
    "\n",
    "def vector_to_weights(vector, shape):\n",
    "        weight = []\n",
    "        id = 0\n",
    "        for i in range(len(shape) - 1):\n",
    "            row = shape[i + 1]\n",
    "            col = shape[i] + 1\n",
    "            id_min = id\n",
    "            id_max = id + row * col\n",
    "            weight.append(vector[id_min:id_max].reshape(row, col))\n",
    "        return weight"
   ]
  },
  {
   "cell_type": "code",
   "execution_count": 32,
   "metadata": {
    "collapsed": true
   },
   "outputs": [],
   "source": [
    "data = do_am\n",
    "Y = luong_mua"
   ]
  },
  {
   "cell_type": "code",
   "execution_count": 33,
   "metadata": {},
   "outputs": [],
   "source": [
    "cost = eval_cost(X, shape, data, Y)"
   ]
  },
  {
   "cell_type": "code",
   "execution_count": 34,
   "metadata": {},
   "outputs": [
    {
     "data": {
      "text/plain": [
       "(10,)"
      ]
     },
     "execution_count": 34,
     "metadata": {},
     "output_type": "execute_result"
    }
   ],
   "source": [
    "cost.shape"
   ]
  },
  {
   "cell_type": "code",
   "execution_count": 35,
   "metadata": {},
   "outputs": [
    {
     "data": {
      "text/plain": [
       "array([ 0.03273751,  0.03609741,  0.03014124,  0.04155665,  0.05836461,\n",
       "        0.07579507,  0.32600201,  0.00713156,  0.08465666,  0.18363386])"
      ]
     },
     "execution_count": 35,
     "metadata": {},
     "output_type": "execute_result"
    }
   ],
   "source": [
    "cost"
   ]
  },
  {
   "cell_type": "code",
   "execution_count": 41,
   "metadata": {},
   "outputs": [],
   "source": [
    "swarm = PSO(10, size_weights(shape), luong_mua, do_am, shape)"
   ]
  },
  {
   "cell_type": "code",
   "execution_count": 42,
   "metadata": {},
   "outputs": [
    {
     "data": {
      "text/plain": [
       "(array([-0.98368888, -1.        , -0.38874701,  0.62570992,  0.36746292,\n",
       "        -1.        ,  1.        ]), 0.0072096328823553994)"
      ]
     },
     "execution_count": 42,
     "metadata": {},
     "output_type": "execute_result"
    }
   ],
   "source": [
    "swarm.update()"
   ]
  }
 ],
 "metadata": {
  "kernelspec": {
   "display_name": "Python 3",
   "language": "python",
   "name": "python3"
  },
  "language_info": {
   "codemirror_mode": {
    "name": "ipython",
    "version": 3
   },
   "file_extension": ".py",
   "mimetype": "text/x-python",
   "name": "python",
   "nbconvert_exporter": "python",
   "pygments_lexer": "ipython3",
   "version": "3.6.3"
  }
 },
 "nbformat": 4,
 "nbformat_minor": 2
}
