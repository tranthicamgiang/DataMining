{
 "cells": [
  {
   "cell_type": "code",
   "execution_count": 5,
   "metadata": {
    "collapsed": true
   },
   "outputs": [],
   "source": [
    "def readData(f):\n",
    "    data_file = open(f, 'r')\n",
    "    data_list = data_file.readlines()\n",
    "    data_file.close()\n",
    "    return data_list"
   ]
  },
  {
   "cell_type": "code",
   "execution_count": 6,
   "metadata": {
    "collapsed": true
   },
   "outputs": [],
   "source": [
    "def scaleData(X, a = 0, b = 0):\n",
    "    if a == 0 and b == 0:\n",
    "        max_x = X.max()\n",
    "        min_x = X.min()\n",
    "        high = 0.999\n",
    "        low = 0.111\n",
    "        a = (high - low) / (max_x - min_x)\n",
    "        b = (max_x * low - min_x * high) / (max_x - min_x)\n",
    "    return a * X + b, a, b"
   ]
  },
  {
   "cell_type": "code",
   "execution_count": 7,
   "metadata": {
    "collapsed": true
   },
   "outputs": [],
   "source": [
    "def size_weights(shape):\n",
    "    x = 0\n",
    "    for i in range(len(shape) - 1):\n",
    "        x =  x + (shape[i] + 1) * shape[i + 1]\n",
    "    return x"
   ]
  },
  {
   "cell_type": "code",
   "execution_count": 8,
   "metadata": {
    "collapsed": true
   },
   "outputs": [],
   "source": [
    "import numpy"
   ]
  },
  {
   "cell_type": "code",
   "execution_count": 9,
   "metadata": {},
   "outputs": [],
   "source": [
    "data = [row.split(\",\") for row in readData(\"data.csv\")]\n",
    "do_am = numpy.asarray([float(row[1]) for row in data])\n",
    "do_am, a_x, b_x = scaleData(do_am)\n",
    "do_am = do_am.reshape(len(data), 1)\n",
    "luong_mua, a_y, b_y = scaleData(numpy.asarray([float(row[2].replace(\"\\n\", \"\")) for row in data]))\n",
    "luong_mua = luong_mua.reshape(len(data), 1)"
   ]
  },
  {
   "cell_type": "code",
   "execution_count": 10,
   "metadata": {},
   "outputs": [
    {
     "data": {
      "text/plain": [
       "array([[ 0.12814817],\n",
       "       [ 0.12796567],\n",
       "       [ 0.12778318],\n",
       "       ..., \n",
       "       [ 0.11173605],\n",
       "       [ 0.11225311],\n",
       "       [ 0.11467417]])"
      ]
     },
     "execution_count": 10,
     "metadata": {},
     "output_type": "execute_result"
    }
   ],
   "source": [
    "do_am"
   ]
  },
  {
   "cell_type": "code",
   "execution_count": 11,
   "metadata": {},
   "outputs": [
    {
     "data": {
      "image/png": "[encoded data removed]",
      "text/plain": [
       "<matplotlib.figure.Figure at 0x1132fff98>"
      ]
     },
     "metadata": {},
     "output_type": "display_data"
    }
   ],
   "source": [
    "import matplotlib.pyplot as plt\n",
    "\n",
    "plt.plot(do_am, luong_mua, 'ro')\n",
    "plt.xlabel(\"Do am\")\n",
    "plt.ylabel(\"Luong mua\")\n",
    "plt.show()"
   ]
  },
  {
   "cell_type": "code",
   "execution_count": 12,
   "metadata": {
    "collapsed": true
   },
   "outputs": [],
   "source": [
    "import scipy.special"
   ]
  },
  {
   "cell_type": "code",
   "execution_count": 1,
   "metadata": {
    "collapsed": true
   },
   "outputs": [],
   "source": [
    "class NeuralNetwork:\n",
    "    def __init__(self, shape):\n",
    "        self.activate_function = lambda x: numpy.tanh(x)\n",
    "        self.shape = shape\n",
    "        pass\n",
    "\n",
    "    def query(self, input, weight):\n",
    "        pre_layer = input.T\n",
    "        for i in range(len(self.shape) - 1):\n",
    "            pre_layer = numpy.insert(pre_layer, 0, 1, axis=0)\n",
    "            layer_input = numpy.dot(weight[i], pre_layer)\n",
    "            layer_output = self.activate_function(layer_input)\n",
    "            pre_layer = layer_output\n",
    "        return pre_layer"
   ]
  },
  {
   "cell_type": "code",
   "execution_count": 2,
   "metadata": {
    "collapsed": true
   },
   "outputs": [],
   "source": [
    "class PSO:\n",
    "    def __init__(self, swarm_size, num_feature, Y, data, shape):\n",
    "        self.Y = Y\n",
    "        self.data = data\n",
    "        self.shape = shape\n",
    "        self.c1 = 1.49445\n",
    "        self.c2 = 1.49445\n",
    "        self.m = num_feature\n",
    "        self.n = swarm_size\n",
    "        self.maxite = 100\n",
    "        self.LB = -1\n",
    "        self.UB = 1\n",
    "\n",
    "        self.X = numpy.random.uniform(-1, 1, (self.n, self.m))\n",
    "        self.V = numpy.random.uniform(-0.1, 0.1, (self.n, self.m))\n",
    "        self.Cost = self.eval_cost(self.X)\n",
    "        self.Pbest = self.X.copy()\n",
    "        self.Gbest = self.Pbest[self.Cost.argmin()]\n",
    "        self.best_cost = self.Cost.min()\n",
    "        pass\n",
    "\n",
    "    def MSE(self, Y_hat, Y):\n",
    "        m = Y.shape[0]\n",
    "        return 1 / m * numpy.sum((Y_hat - Y) ** 2)\n",
    "\n",
    "    def vector_to_weights(self, vector, shape):\n",
    "        weight = []\n",
    "        index = 0\n",
    "        for i in range(len(shape) - 1):\n",
    "            row = shape[i + 1]\n",
    "            col = shape[i] + 1\n",
    "            id_min = index\n",
    "            id_max = index + row * col\n",
    "            weight.append(vector[id_min:id_max].reshape(row, col))\n",
    "        return weight\n",
    "\n",
    "    def eval_cost(self, position):\n",
    "        Cost = []\n",
    "        neuralNetwork = NeuralNetwork(self.shape)\n",
    "        for x in position:\n",
    "            weight = self.vector_to_weights(x, self.shape)\n",
    "            Y_predict = neuralNetwork.query(self.data, weight)\n",
    "            Cost.append(self.MSE(Y_predict, self.Y))\n",
    "        return numpy.asarray(Cost)\n",
    "\n",
    "    def update(self):\n",
    "        ite = 0\n",
    "        while ite < self.maxite and self.best_cost > 10 ** -12:\n",
    "            R1 = numpy.random.uniform(0, 1, (self.n, self.m))\n",
    "            R2 = numpy.random.uniform(0, 1, (self.n, self.m))\n",
    "            w = 0.729\n",
    "            self.V = w * self.V + self.c1 * R1 * (self.Pbest - self.X) + self.c2 * R2 * (self.Gbest - self.X)\n",
    "            self.X = self.X + self.V\n",
    "\n",
    "            x_lower_than_lb = self.X < self.LB\n",
    "            x_higher_than_ub = self.X > self.UB\n",
    "            self.X[x_lower_than_lb] = self.LB\n",
    "            self.X[x_higher_than_ub] = self.UB\n",
    "\n",
    "            v_lower_than_lb = self.V < (self.LB * 0.1)\n",
    "            v_higher_than_ub = self.V > (self.UB * 0.1)\n",
    "            self.V[v_lower_than_lb] = self.LB * 0.1\n",
    "            self.V[v_higher_than_ub] = self.UB * 0.1\n",
    "\n",
    "            current_cost = self.eval_cost(self.X)\n",
    "            better_cost = current_cost < self.Cost\n",
    "            self.Cost[better_cost] = current_cost[better_cost]\n",
    "            self.Pbest[better_cost] = self.X[better_cost]\n",
    "            self.Gbest = self.Pbest[self.Cost.argmin()]\n",
    "            self.best_cost = self.Cost.min()\n",
    "            ite += 1\n",
    "        return self.Gbest, self.best_cost\n"
   ]
  },
  {
   "cell_type": "code",
   "execution_count": 13,
   "metadata": {},
   "outputs": [],
   "source": [
    "shape = (do_am.shape[1], 50, 50, 1)"
   ]
  },
  {
   "cell_type": "code",
   "execution_count": 14,
   "metadata": {
    "collapsed": true
   },
   "outputs": [],
   "source": [
    "def test(nn, weight, a_y, b_y, do_am):\n",
    "    y_predict = nn.query(do_am, vector_to_weights(weight, nn.shape))\n",
    "    y_predict = (y_predict - b_y)/a_y\n",
    "    plt.plot(do_am, y_predict, 'ro')\n",
    "    plt.xlabel(\"Do am\")\n",
    "    plt.ylabel(\"Luong mua du doan\")\n",
    "    plt.show()\n",
    "    pass"
   ]
  },
  {
   "cell_type": "code",
   "execution_count": 16,
   "metadata": {},
   "outputs": [],
   "source": [
    "f = open(\"weight.txt\", \"r\")\n",
    "f_line = f.readlines()\n",
    "f.close()"
   ]
  },
  {
   "cell_type": "code",
   "execution_count": 23,
   "metadata": {},
   "outputs": [],
   "source": [
    "f_fm = [float(row.replace(\"\\n\", \"\")) for row in f_line]"
   ]
  },
  {
   "cell_type": "code",
   "execution_count": 34,
   "metadata": {},
   "outputs": [],
   "source": [
    "best_weight = numpy.asarray(f_fm)"
   ]
  },
  {
   "cell_type": "code",
   "execution_count": 35,
   "metadata": {
    "collapsed": true
   },
   "outputs": [],
   "source": [
    "shape = (do_am[1], 50, 50, 1)\n",
    "nn = NeuralNetwork(shape)"
   ]
  },
  {
   "cell_type": "code",
   "execution_count": 36,
   "metadata": {
    "collapsed": true
   },
   "outputs": [],
   "source": [
    "def vector_to_weights(vector, shape):\n",
    "    weight = []\n",
    "    index = 0\n",
    "    for i in range(len(shape) - 1):\n",
    "        row = shape[i + 1]\n",
    "        col = shape[i] + 1\n",
    "        id_min = index\n",
    "        id_max = index + row * col\n",
    "        weight.append(vector[id_min:id_max].reshape(row, col))\n",
    "    return weight"
   ]
  },
  {
   "cell_type": "code",
   "execution_count": 39,
   "metadata": {},
   "outputs": [
    {
     "data": {
      "text/plain": [
       "3"
      ]
     },
     "execution_count": 39,
     "metadata": {},
     "output_type": "execute_result"
    }
   ],
   "source": [
    "index = 0\n",
    "len(shape) - 1"
   ]
  },
  {
   "cell_type": "code",
   "execution_count": 41,
   "metadata": {},
   "outputs": [],
   "source": [
    "row = shape[0 + 1]\n",
    "col = shape[0] + 1\n",
    "id_min = index\n",
    "id_max = index + row * col"
   ]
  },
  {
   "cell_type": "code",
   "execution_count": 47,
   "metadata": {},
   "outputs": [
    {
     "data": {
      "text/plain": [
       "array([ 56.39828366])"
      ]
     },
     "execution_count": 47,
     "metadata": {},
     "output_type": "execute_result"
    }
   ],
   "source": [
    "id_max"
   ]
  },
  {
   "cell_type": "code",
   "execution_count": 42,
   "metadata": {},
   "outputs": [
    {
     "ename": "IndexError",
     "evalue": "arrays used as indices must be of integer (or boolean) type",
     "output_type": "error",
     "traceback": [
      "\u001b[0;31m---------------------------------------------------------------------------\u001b[0m",
      "\u001b[0;31mIndexError\u001b[0m                                Traceback (most recent call last)",
      "\u001b[0;32m<ipython-input-42-f3d2e9b451cf>\u001b[0m in \u001b[0;36m<module>\u001b[0;34m()\u001b[0m\n\u001b[1;32m      1\u001b[0m \u001b[0mweight\u001b[0m \u001b[0;34m=\u001b[0m \u001b[0;34m[\u001b[0m\u001b[0;34m]\u001b[0m\u001b[0;34m\u001b[0m\u001b[0m\n\u001b[0;32m----> 2\u001b[0;31m \u001b[0mweight\u001b[0m\u001b[0;34m.\u001b[0m\u001b[0mappend\u001b[0m\u001b[0;34m(\u001b[0m\u001b[0mbest_weight\u001b[0m\u001b[0;34m[\u001b[0m\u001b[0mid_min\u001b[0m\u001b[0;34m,\u001b[0m \u001b[0mid_max\u001b[0m\u001b[0;34m]\u001b[0m\u001b[0;34m.\u001b[0m\u001b[0mreshape\u001b[0m\u001b[0;34m(\u001b[0m\u001b[0mrow\u001b[0m\u001b[0;34m,\u001b[0m \u001b[0mcol\u001b[0m\u001b[0;34m)\u001b[0m\u001b[0;34m)\u001b[0m\u001b[0;34m\u001b[0m\u001b[0m\n\u001b[0m",
      "\u001b[0;31mIndexError\u001b[0m: arrays used as indices must be of integer (or boolean) type"
     ]
    }
   ],
   "source": [
    "weight = []\n",
    "weight.append(best_weight[id_min, id_max].reshape(row, col))"
   ]
  },
  {
   "cell_type": "code",
   "execution_count": 37,
   "metadata": {},
   "outputs": [
    {
     "ename": "TypeError",
     "evalue": "only integer scalar arrays can be converted to a scalar index",
     "output_type": "error",
     "traceback": [
      "\u001b[0;31m---------------------------------------------------------------------------\u001b[0m",
      "\u001b[0;31mTypeError\u001b[0m                                 Traceback (most recent call last)",
      "\u001b[0;32m<ipython-input-37-a37d8a805d38>\u001b[0m in \u001b[0;36m<module>\u001b[0;34m()\u001b[0m\n\u001b[0;32m----> 1\u001b[0;31m \u001b[0my_predict\u001b[0m \u001b[0;34m=\u001b[0m \u001b[0mnn\u001b[0m\u001b[0;34m.\u001b[0m\u001b[0mquery\u001b[0m\u001b[0;34m(\u001b[0m\u001b[0mdo_am\u001b[0m\u001b[0;34m,\u001b[0m \u001b[0mvector_to_weights\u001b[0m\u001b[0;34m(\u001b[0m\u001b[0mbest_weight\u001b[0m\u001b[0;34m,\u001b[0m \u001b[0mnn\u001b[0m\u001b[0;34m.\u001b[0m\u001b[0mshape\u001b[0m\u001b[0;34m)\u001b[0m\u001b[0;34m)\u001b[0m\u001b[0;34m\u001b[0m\u001b[0m\n\u001b[0m",
      "\u001b[0;32m<ipython-input-36-1acf0e23b8c9>\u001b[0m in \u001b[0;36mvector_to_weights\u001b[0;34m(vector, shape)\u001b[0m\n\u001b[1;32m      7\u001b[0m         \u001b[0mid_min\u001b[0m \u001b[0;34m=\u001b[0m \u001b[0mindex\u001b[0m\u001b[0;34m\u001b[0m\u001b[0m\n\u001b[1;32m      8\u001b[0m         \u001b[0mid_max\u001b[0m \u001b[0;34m=\u001b[0m \u001b[0mindex\u001b[0m \u001b[0;34m+\u001b[0m \u001b[0mrow\u001b[0m \u001b[0;34m*\u001b[0m \u001b[0mcol\u001b[0m\u001b[0;34m\u001b[0m\u001b[0m\n\u001b[0;32m----> 9\u001b[0;31m         \u001b[0mweight\u001b[0m\u001b[0;34m.\u001b[0m\u001b[0mappend\u001b[0m\u001b[0;34m(\u001b[0m\u001b[0mvector\u001b[0m\u001b[0;34m[\u001b[0m\u001b[0mid_min\u001b[0m\u001b[0;34m:\u001b[0m\u001b[0mid_max\u001b[0m\u001b[0;34m]\u001b[0m\u001b[0;34m.\u001b[0m\u001b[0mreshape\u001b[0m\u001b[0;34m(\u001b[0m\u001b[0mrow\u001b[0m\u001b[0;34m,\u001b[0m \u001b[0mcol\u001b[0m\u001b[0;34m)\u001b[0m\u001b[0;34m)\u001b[0m\u001b[0;34m\u001b[0m\u001b[0m\n\u001b[0m\u001b[1;32m     10\u001b[0m     \u001b[0;32mreturn\u001b[0m \u001b[0mweight\u001b[0m\u001b[0;34m\u001b[0m\u001b[0m\n",
      "\u001b[0;31mTypeError\u001b[0m: only integer scalar arrays can be converted to a scalar index"
     ]
    }
   ],
   "source": [
    "y_predict = nn.query(do_am, vector_to_weights(best_weight, nn.shape))"
   ]
  }
 ],
 "metadata": {
  "kernelspec": {
   "display_name": "Python 3",
   "language": "python",
   "name": "python3"
  },
  "language_info": {
   "codemirror_mode": {
    "name": "ipython",
    "version": 3
   },
   "file_extension": ".py",
   "mimetype": "text/x-python",
   "name": "python",
   "nbconvert_exporter": "python",
   "pygments_lexer": "ipython3",
   "version": "3.6.3"
  }
 },
 "nbformat": 4,
 "nbformat_minor": 2
}
